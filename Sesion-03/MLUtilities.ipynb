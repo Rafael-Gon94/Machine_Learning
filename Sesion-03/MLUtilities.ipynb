{
  "nbformat": 4,
  "nbformat_minor": 0,
  "metadata": {
    "colab": {
      "name": "MLUtilities.ipynb",
      "provenance": []
    },
    "kernelspec": {
      "name": "python3",
      "display_name": "Python 3"
    },
    "language_info": {
      "name": "python"
    }
  },
  "cells": [
    {
      "cell_type": "code",
      "execution_count": 1,
      "metadata": {
        "id": "wxx95ySi9Y_J"
      },
      "outputs": [],
      "source": [
        "import numpy as np\n",
        "from matplotlib import pyplot as plt\n",
        "from sklearn.datasets import make_blobs\n",
        "#Nota: Primero debes subir el archivo a Colab.\n",
        "import MLUtilities as utils\n",
        "#Ejecuta esto, sólo si el archivo no carga correctamente.\n",
        "#import sys\n",
        "#sys.path.append('content')"
      ]
    },
    {
      "cell_type": "code",
      "source": [
        "x, y = make_blobs(n_samples=1000, centers=2, n_features=2)\n",
        "plt.scatter(x[:,0], x[:,1], c=y)\n",
        "plt.show()"
      ],
      "metadata": {
        "colab": {
          "base_uri": "https://localhost:8080/",
          "height": 265
        },
        "id": "OALrirSK-vDA",
        "outputId": "3e5c3114-2092-404f-da88-c27783b548d1"
      },
      "execution_count": 2,
      "outputs": [
        {
          "output_type": "display_data",
          "data": {
            "image/png": "[encoded data removed]",
            "text/plain": [
              "<Figure size 432x288 with 1 Axes>"
            ]
          },
          "metadata": {
            "needs_background": "light"
          }
        }
      ]
    },
    {
      "cell_type": "code",
      "source": [
        "#Particionando en 60% entrenamiento, 10% validacion, 30% prueba\n",
        "[x_train, x_val, x_test, y_train, y_val, y_test] = utils.particionar(x,y,0.60,0.10,0.30)\n",
        "\n",
        "print(x_train.shape)\n",
        "print(x_val.shape)\n",
        "print(x_test.shape)"
      ],
      "metadata": {
        "colab": {
          "base_uri": "https://localhost:8080/"
        },
        "id": "-D0-LqLu-xjy",
        "outputId": "5d1d4152-9917-4553-c751-6fb1ed756b97"
      },
      "execution_count": 3,
      "outputs": [
        {
          "output_type": "stream",
          "name": "stdout",
          "text": [
            "(600, 2)\n",
            "(100, 2)\n",
            "(300, 2)\n"
          ]
        }
      ]
    }
  ]
}